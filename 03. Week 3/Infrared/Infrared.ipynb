{
  "nbformat": 4,
  "nbformat_minor": 0,
  "metadata": {
    "colab": {
      "provenance": []
    },
    "kernelspec": {
      "name": "python3",
      "display_name": "Python 3"
    },
    "language_info": {
      "name": "python"
    }
  },
  "cells": [
    {
      "cell_type": "code",
      "source": [
        "import pandas as pd\n",
        "import numpy as np\n",
        "from sklearn.model_selection import train_test_split\n",
        "from sklearn.preprocessing import StandardScaler\n",
        "from sklearn.neighbors import KNeighborsRegressor\n",
        "from sklearn.tree import DecisionTreeRegressor\n",
        "from sklearn.metrics import mean_squared_error, r2_score"
      ],
      "metadata": {
        "id": "uXADI6nOZDdS"
      },
      "execution_count": 20,
      "outputs": []
    },
    {
      "cell_type": "code",
      "execution_count": 21,
      "metadata": {
        "colab": {
          "base_uri": "https://localhost:8080/"
        },
        "id": "QlDyFTN2vc9f",
        "outputId": "36bf1cfe-9342-42a1-f232-d5709b9921c6"
      },
      "outputs": [
        {
          "output_type": "stream",
          "name": "stdout",
          "text": [
            "   Gender    Age                  Ethnicity  T_atm  Humidity  Distance  \\\n",
            "0    Male  41-50                      White   24.0      28.0       0.8   \n",
            "1  Female  31-40  Black or African-American   24.0      26.0       0.8   \n",
            "2  Female  21-30                      White   24.0      26.0       0.8   \n",
            "3  Female  21-30  Black or African-American   24.0      27.0       0.8   \n",
            "4    Male  18-20                      White   24.0      27.0       0.8   \n",
            "\n",
            "   T_offset1  Max1R13_1  Max1L13_1  aveAllR13_1  ...  T_FHRC1  T_FHLC1  \\\n",
            "0     0.7025    35.0300    35.3775      34.4000  ...  33.4775  33.3725   \n",
            "1     0.7800    34.5500    34.5200      33.9300  ...  34.0550  33.6775   \n",
            "2     0.8625    35.6525    35.5175      34.2775  ...  34.8275  34.6475   \n",
            "3     0.9300    35.2225    35.6125      34.3850  ...  34.4225  34.6550   \n",
            "4     0.8950    35.5450    35.6650      34.9100  ...  35.1600  34.3975   \n",
            "\n",
            "   T_FHBC1  T_FHTC1  T_FH_Max1  T_FHC_Max1   T_Max1    T_OR1  T_OR_Max1  \\\n",
            "0  33.4925  33.0025    34.5300     34.0075  35.6925  35.6350    35.6525   \n",
            "1  33.9700  34.0025    34.6825     34.6600  35.1750  35.0925    35.1075   \n",
            "2  34.8200  34.6700    35.3450     35.2225  35.9125  35.8600    35.8850   \n",
            "3  34.3025  34.9175    35.6025     35.3150  35.7200  34.9650    34.9825   \n",
            "4  34.6700  33.8275    35.4175     35.3725  35.8950  35.5875    35.6175   \n",
            "\n",
            "   aveOralM  \n",
            "0     36.59  \n",
            "1     37.19  \n",
            "2     37.34  \n",
            "3     37.09  \n",
            "4     37.04  \n",
            "\n",
            "[5 rows x 34 columns]\n"
          ]
        }
      ],
      "source": [
        "url = \"https://raw.githubusercontent.com/enricochandran/01.-Machine-Learning/refs/heads/main/03.%20Week%203/Infrared/Infrared.csv\"\n",
        "df = pd.read_csv(url)\n",
        "print(df.head())"
      ]
    },
    {
      "cell_type": "code",
      "source": [
        "df = df.dropna()"
      ],
      "metadata": {
        "id": "f5zsU-yogGiY"
      },
      "execution_count": 22,
      "outputs": []
    },
    {
      "cell_type": "code",
      "source": [
        "target = 'aveOralM'\n",
        "X = df.drop(columns=[target])\n",
        "y = df[target]"
      ],
      "metadata": {
        "id": "eaWpt3mXgLWH"
      },
      "execution_count": 23,
      "outputs": []
    },
    {
      "cell_type": "code",
      "source": [
        "categorical_features = ['Gender', 'Age', 'Ethnicity']\n",
        "X = pd.get_dummies(X, columns=categorical_features, drop_first=True)\n",
        "\n",
        "X_train, X_test, y_train, y_test = train_test_split(X, y, test_size=0.2, random_state=42)\n",
        "\n",
        "numerical_features = X_train.select_dtypes(include=np.number).columns\n",
        "scaler = StandardScaler()\n",
        "X_train_scaled = scaler.fit_transform(X_train[numerical_features])\n",
        "X_test_scaled = scaler.transform(X_test[numerical_features])\n",
        "\n",
        "X_train_scaled = pd.DataFrame(X_train_scaled, columns=numerical_features, index=X_train.index)\n",
        "X_test_scaled = pd.DataFrame(X_test_scaled, columns=numerical_features, index=X_test.index)\n",
        "\n",
        "X_train = pd.concat([X_train_scaled, X_train.drop(columns=numerical_features)], axis=1)\n",
        "X_test = pd.concat([X_test_scaled, X_test.drop(columns=numerical_features)], axis=1)\n"
      ],
      "metadata": {
        "id": "_eWJt8ElgY4H"
      },
      "execution_count": 24,
      "outputs": []
    },
    {
      "cell_type": "code",
      "source": [
        "knn_model = KNeighborsRegressor(n_neighbors=5)\n",
        "knn_model.fit(X_train, y_train)\n",
        "y_pred_knn = knn_model.predict(X_test)"
      ],
      "metadata": {
        "id": "vXL3p0Liga6R"
      },
      "execution_count": 25,
      "outputs": []
    },
    {
      "cell_type": "code",
      "source": [
        "dt_model = DecisionTreeRegressor()\n",
        "dt_model.fit(X_train, y_train)\n",
        "y_pred_dt = dt_model.predict(X_test)"
      ],
      "metadata": {
        "id": "KAitx4Mege1r"
      },
      "execution_count": 26,
      "outputs": []
    },
    {
      "cell_type": "code",
      "source": [
        "def evaluate_model(y_true, y_pred, model_name):\n",
        "    mse = mean_squared_error(y_true, y_pred)\n",
        "    rmse = np.sqrt(mse)\n",
        "    r2 = r2_score(y_true, y_pred)\n",
        "    print(f\"{model_name} Performance:\")\n",
        "    print(f\"MSE: {mse:.4f}\")\n",
        "    print(f\"RMSE: {rmse:.4f}\")\n",
        "    print(f\"R-Squared: {r2:.4f}\\n\")"
      ],
      "metadata": {
        "id": "rGtnKwB5ggQ1"
      },
      "execution_count": 27,
      "outputs": []
    },
    {
      "cell_type": "code",
      "source": [
        "evaluate_model(y_test, y_pred_knn, \"K-NN\")\n",
        "evaluate_model(y_test, y_pred_dt, \"Decision Tree\")"
      ],
      "metadata": {
        "colab": {
          "base_uri": "https://localhost:8080/"
        },
        "id": "pB1Flz16gh2f",
        "outputId": "7578fcee-12d6-4b3d-e7d7-32edb8412c7d"
      },
      "execution_count": 28,
      "outputs": [
        {
          "output_type": "stream",
          "name": "stdout",
          "text": [
            "K-NN Performance:\n",
            "MSE: 0.0674\n",
            "RMSE: 0.2596\n",
            "R-Squared: 0.6613\n",
            "\n",
            "Decision Tree Performance:\n",
            "MSE: 0.1252\n",
            "RMSE: 0.3539\n",
            "R-Squared: 0.3704\n",
            "\n"
          ]
        }
      ]
    },
    {
      "cell_type": "markdown",
      "source": [
        "# **1. Mean Squared Error (MSE)**\n",
        "MSE mengukur rata-rata kuadrat dari selisih antara nilai aktual dan nilai prediksi.\n",
        "\n",
        "![image.png](data:image/png;base64,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)\n",
        "\n",
        "MSE menunjukkan seberapa besar kesalahan yang dibuat oleh model secara rata-rata. Nilai yang lebih kecil menunjukkan model yang lebih akurat.\n",
        "\n",
        "# **2. Root Mean Squared Error (RMSE)**\n",
        "RMSE adalah akar dari MSE, digunakan untuk mendapatkan nilai dalam satuan yang sama dengan target variabel.\n",
        "\n",
        "![image.png](data:image/png;base64,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)\n",
        "\n",
        "RMSE lebih mudah diinterpretasikan dibandingkan MSE karena nilainya dalam satuan yang sama dengan target variabel.\n",
        "\n",
        "# **3. R-Squared**\n",
        "R-Squared mengukur seberapa baik model dapat menjelaskan variasi dalam data.\n",
        "\n",
        "![image.png](data:image/png;base64,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)\n",
        "\n"
      ],
      "metadata": {
        "id": "rjus5pyKhclu"
      }
    }
  ]
}